{
 "cells": [
  {
   "cell_type": "markdown",
   "id": "eebbd010",
   "metadata": {},
   "source": [
    "# Semana Python EmpowerData Aula 1"
   ]
  },
  {
   "cell_type": "markdown",
   "id": "404c983f",
   "metadata": {},
   "source": [
    "### Criar um orçamento automatico e publicar o projeto em alguma rede social (vou utilizar Linkedin)"
   ]
  },
  {
   "cell_type": "code",
   "execution_count": 1,
   "id": "563b315d",
   "metadata": {},
   "outputs": [],
   "source": [
    "# Isso é um comentário em Python utilizamos \"#\" para iniciar um comentário no script"
   ]
  },
  {
   "cell_type": "markdown",
   "id": "f2ef5ddb",
   "metadata": {},
   "source": [
    "## Imprimindo dados na tela do computador\n",
    " - Para imprimir utilizamos a função print()"
   ]
  },
  {
   "cell_type": "code",
   "execution_count": 2,
   "id": "495210ab",
   "metadata": {},
   "outputs": [
    {
     "name": "stdout",
     "output_type": "stream",
     "text": [
      "Semena Python na Prática\n"
     ]
    }
   ],
   "source": [
    "print(\"Semena Python na Prática\")"
   ]
  },
  {
   "cell_type": "code",
   "execution_count": 4,
   "id": "bd7c361f",
   "metadata": {},
   "outputs": [
    {
     "name": "stdout",
     "output_type": "stream",
     "text": [
      "Meu primeiro Código em Python\n"
     ]
    }
   ],
   "source": [
    "print(\"Meu primeiro Código em Python\")"
   ]
  },
  {
   "cell_type": "markdown",
   "id": "2b8d42af",
   "metadata": {},
   "source": [
    "## Tipos de Dados: Texto e númericos\n",
    " - Texto: str\n",
    " - Númerico: \n",
    "     - Inteiro: int\n",
    "     - com casa decimal: float\n",
    "     - ATENÇÃO: o separador de casas decimais no Python é o ponto e não a virgula\n",
    "        10,3 (errado)\n",
    "        10.3 (certo)\n",
    " - Para verificar o tipo de dados, podemos utilizar a função type().\n",
    " \n",
    " - Operadores aritméticos:\n",
    "    - adição: +\n",
    "    - subtração: -\n",
    "    - multiplicação: *\n",
    "    - divisão: /"
   ]
  },
  {
   "cell_type": "code",
   "execution_count": 16,
   "id": "4affcbc6",
   "metadata": {},
   "outputs": [
    {
     "name": "stdout",
     "output_type": "stream",
     "text": [
      "10\n"
     ]
    }
   ],
   "source": [
    "# isso é um tipo texto\n",
    "print(\"10\")"
   ]
  },
  {
   "cell_type": "code",
   "execution_count": 18,
   "id": "d19241ab",
   "metadata": {},
   "outputs": [
    {
     "data": {
      "text/plain": [
       "str"
      ]
     },
     "execution_count": 18,
     "metadata": {},
     "output_type": "execute_result"
    }
   ],
   "source": [
    "type(\"10\")"
   ]
  },
  {
   "cell_type": "code",
   "execution_count": 20,
   "id": "9be3bc4f",
   "metadata": {},
   "outputs": [
    {
     "name": "stdout",
     "output_type": "stream",
     "text": [
      "10\n"
     ]
    }
   ],
   "source": [
    "# isso é um tipo numérico (número inteiro)\n",
    "print(10)"
   ]
  },
  {
   "cell_type": "code",
   "execution_count": 21,
   "id": "2d90d1be",
   "metadata": {},
   "outputs": [
    {
     "data": {
      "text/plain": [
       "int"
      ]
     },
     "execution_count": 21,
     "metadata": {},
     "output_type": "execute_result"
    }
   ],
   "source": [
    "type(10)"
   ]
  },
  {
   "cell_type": "code",
   "execution_count": 25,
   "id": "21666439",
   "metadata": {},
   "outputs": [
    {
     "name": "stdout",
     "output_type": "stream",
     "text": [
      "10.5\n"
     ]
    }
   ],
   "source": [
    "# isso é um tipo númerico (número decimal)\n",
    "print(10.5)"
   ]
  },
  {
   "cell_type": "code",
   "execution_count": 26,
   "id": "f72efb91",
   "metadata": {},
   "outputs": [
    {
     "data": {
      "text/plain": [
       "float"
      ]
     },
     "execution_count": 26,
     "metadata": {},
     "output_type": "execute_result"
    }
   ],
   "source": [
    "type(10.5)"
   ]
  },
  {
   "cell_type": "code",
   "execution_count": 27,
   "id": "f850ebe7",
   "metadata": {},
   "outputs": [
    {
     "name": "stdout",
     "output_type": "stream",
     "text": [
      "11\n"
     ]
    }
   ],
   "source": [
    "print(10+1)"
   ]
  },
  {
   "cell_type": "code",
   "execution_count": 28,
   "id": "4f90ac8c",
   "metadata": {},
   "outputs": [
    {
     "name": "stdout",
     "output_type": "stream",
     "text": [
      "5\n"
     ]
    }
   ],
   "source": [
    "print(10-5)"
   ]
  },
  {
   "cell_type": "code",
   "execution_count": 29,
   "id": "ce3deb4d",
   "metadata": {},
   "outputs": [
    {
     "name": "stdout",
     "output_type": "stream",
     "text": [
      "100\n"
     ]
    }
   ],
   "source": [
    "print(10*10)"
   ]
  },
  {
   "cell_type": "code",
   "execution_count": 30,
   "id": "c48218b0",
   "metadata": {},
   "outputs": [
    {
     "name": "stdout",
     "output_type": "stream",
     "text": [
      "10.0\n"
     ]
    }
   ],
   "source": [
    "print(100/10)"
   ]
  },
  {
   "cell_type": "code",
   "execution_count": 32,
   "id": "f7a11c8d",
   "metadata": {},
   "outputs": [
    {
     "name": "stdout",
     "output_type": "stream",
     "text": [
      "10 + 20\n"
     ]
    }
   ],
   "source": [
    "# CUIDADO!! Não podemos realizar cálculos com textos e nem entre tipos diferentes!\n",
    "print(\"10 + 20\")"
   ]
  },
  {
   "cell_type": "code",
   "execution_count": 33,
   "id": "192ff3b1",
   "metadata": {},
   "outputs": [
    {
     "ename": "TypeError",
     "evalue": "can only concatenate str (not \"int\") to str",
     "output_type": "error",
     "traceback": [
      "\u001b[1;31m---------------------------------------------------------------------------\u001b[0m",
      "\u001b[1;31mTypeError\u001b[0m                                 Traceback (most recent call last)",
      "\u001b[1;32m~\\AppData\\Local\\Temp\\ipykernel_3480\\3549659214.py\u001b[0m in \u001b[0;36m<module>\u001b[1;34m\u001b[0m\n\u001b[0;32m      1\u001b[0m \u001b[1;31m# gera um erro, pois estamos somando um texto com um número inteiro\u001b[0m\u001b[1;33m\u001b[0m\u001b[1;33m\u001b[0m\u001b[0m\n\u001b[1;32m----> 2\u001b[1;33m \u001b[0mprint\u001b[0m\u001b[1;33m(\u001b[0m\u001b[1;34m\"10\"\u001b[0m \u001b[1;33m+\u001b[0m \u001b[1;36m10\u001b[0m\u001b[1;33m)\u001b[0m\u001b[1;33m\u001b[0m\u001b[1;33m\u001b[0m\u001b[0m\n\u001b[0m",
      "\u001b[1;31mTypeError\u001b[0m: can only concatenate str (not \"int\") to str"
     ]
    }
   ],
   "source": [
    "# gera um erro, pois estamos somando um texto com um número inteiro\n",
    "print(\"10\" + 10)"
   ]
  },
  {
   "cell_type": "markdown",
   "id": "1f01137b",
   "metadata": {},
   "source": [
    "## Recebendo dados do usuário\n",
    " - Para receber dados de um usuário, podemos utilizar a função input()."
   ]
  },
  {
   "cell_type": "code",
   "execution_count": 34,
   "id": "9406f5f8",
   "metadata": {},
   "outputs": [
    {
     "name": "stdout",
     "output_type": "stream",
     "text": [
      "Semana do Python na Prática\n"
     ]
    },
    {
     "data": {
      "text/plain": [
       "'Semana do Python na Prática'"
      ]
     },
     "execution_count": 34,
     "metadata": {},
     "output_type": "execute_result"
    }
   ],
   "source": [
    "input()"
   ]
  },
  {
   "cell_type": "code",
   "execution_count": 36,
   "id": "89c06d37",
   "metadata": {},
   "outputs": [
    {
     "name": "stdout",
     "output_type": "stream",
     "text": [
      "Digite seu nome: Vitor\n",
      "Digite sua idade: 23\n"
     ]
    },
    {
     "data": {
      "text/plain": [
       "'23'"
      ]
     },
     "execution_count": 36,
     "metadata": {},
     "output_type": "execute_result"
    }
   ],
   "source": [
    "input(\"Digite seu nome: \")\n",
    "input(\"Digite sua idade: \")"
   ]
  },
  {
   "cell_type": "markdown",
   "id": "20415ef6",
   "metadata": {},
   "source": [
    "## Variáveis: guardando informações\n",
    " - Variáveis são espaços na memória do computador que o Python utiliza para guarda um dado.\n",
    " - Nome de variáveis não podem:\n",
    "    - ser palavras reservadas da linguagem\n",
    "    - comemçar com um número\n",
    "    - conter espaço em branco e nem caracteres especiais(acento, cedilha... etc)"
   ]
  },
  {
   "cell_type": "code",
   "execution_count": 37,
   "id": "62bfd0b5",
   "metadata": {},
   "outputs": [
    {
     "name": "stdout",
     "output_type": "stream",
     "text": [
      "Vitor\n"
     ]
    }
   ],
   "source": [
    "nome = \"Vitor\"\n",
    "print(nome)"
   ]
  },
  {
   "cell_type": "code",
   "execution_count": 38,
   "id": "8f7877fd",
   "metadata": {},
   "outputs": [
    {
     "name": "stdout",
     "output_type": "stream",
     "text": [
      "30\n"
     ]
    }
   ],
   "source": [
    "numero1 = 10\n",
    "numero2 = 20\n",
    "resultado = numero1 + numero2\n",
    "print(resultado)"
   ]
  },
  {
   "cell_type": "code",
   "execution_count": 39,
   "id": "14b7e8dc",
   "metadata": {},
   "outputs": [
    {
     "name": "stdout",
     "output_type": "stream",
     "text": [
      "Digite seu nome: Vitor\n",
      "Digite sua idade: 23\n",
      "Digite seu peso: 71.4\n"
     ]
    }
   ],
   "source": [
    "nome = input(\"Digite seu nome: \")\n",
    "idade = input(\"Digite sua idade: \")\n",
    "peso = input(\"Digite seu peso: \")"
   ]
  },
  {
   "cell_type": "code",
   "execution_count": 42,
   "id": "03a89f71",
   "metadata": {},
   "outputs": [
    {
     "data": {
      "text/plain": [
       "str"
      ]
     },
     "execution_count": 42,
     "metadata": {},
     "output_type": "execute_result"
    }
   ],
   "source": [
    "# CUIDADO! Todos dados recebidos atraves do input são do tipo texto, até mesmo os números\n",
    "type(nome)"
   ]
  },
  {
   "cell_type": "code",
   "execution_count": 43,
   "id": "e2b08bb7",
   "metadata": {},
   "outputs": [
    {
     "data": {
      "text/plain": [
       "str"
      ]
     },
     "execution_count": 43,
     "metadata": {},
     "output_type": "execute_result"
    }
   ],
   "source": [
    "type(idade)"
   ]
  },
  {
   "cell_type": "code",
   "execution_count": 44,
   "id": "0d3504a7",
   "metadata": {},
   "outputs": [
    {
     "data": {
      "text/plain": [
       "str"
      ]
     },
     "execution_count": 44,
     "metadata": {},
     "output_type": "execute_result"
    }
   ],
   "source": [
    "type(peso)"
   ]
  },
  {
   "cell_type": "markdown",
   "id": "5ae6a060",
   "metadata": {},
   "source": [
    "#### Conversão de tipos\n",
    " - Para convertes números em textos, podemos utilizar a função str.\n",
    " - Para convertes textos em números, podemos utilizar as função:\n",
    "   - int: para converte em um número inteiro\n",
    "   - float: para converte em um número decimal"
   ]
  },
  {
   "cell_type": "code",
   "execution_count": 45,
   "id": "59862c26",
   "metadata": {},
   "outputs": [
    {
     "name": "stdout",
     "output_type": "stream",
     "text": [
      "33\n"
     ]
    }
   ],
   "source": [
    "print(int(idade) + 10)"
   ]
  },
  {
   "cell_type": "code",
   "execution_count": 46,
   "id": "09637cd9",
   "metadata": {},
   "outputs": [
    {
     "name": "stdout",
     "output_type": "stream",
     "text": [
      "81.4\n"
     ]
    }
   ],
   "source": [
    "print(float(peso) + 10)"
   ]
  },
  {
   "cell_type": "code",
   "execution_count": 47,
   "id": "3021782d",
   "metadata": {},
   "outputs": [
    {
     "name": "stdout",
     "output_type": "stream",
     "text": [
      "10.34\n"
     ]
    }
   ],
   "source": [
    "print(float(\"10.34\"))"
   ]
  },
  {
   "cell_type": "code",
   "execution_count": 48,
   "id": "0d2aec9a",
   "metadata": {},
   "outputs": [
    {
     "data": {
      "text/plain": [
       "int"
      ]
     },
     "execution_count": 48,
     "metadata": {},
     "output_type": "execute_result"
    }
   ],
   "source": [
    "type(10)"
   ]
  },
  {
   "cell_type": "code",
   "execution_count": 49,
   "id": "139999ba",
   "metadata": {},
   "outputs": [
    {
     "data": {
      "text/plain": [
       "str"
      ]
     },
     "execution_count": 49,
     "metadata": {},
     "output_type": "execute_result"
    }
   ],
   "source": [
    "type(str(10))"
   ]
  },
  {
   "cell_type": "markdown",
   "id": "d0a7fc6d",
   "metadata": {},
   "source": [
    "## Juntando textos com variáveis\n",
    " - Para juntar texto com dados de uma variavel, podemos utilizar ps textos formatados.\n",
    "  - basta utilizar um f antes das aspas do texto e colocar a variavel dentro de chaves"
   ]
  },
  {
   "cell_type": "code",
   "execution_count": 50,
   "id": "e6d68be7",
   "metadata": {},
   "outputs": [
    {
     "name": "stdout",
     "output_type": "stream",
     "text": [
      "Digite seu nome: Vitor\n",
      "Digite sua idade: 23\n"
     ]
    }
   ],
   "source": [
    "nome = input(\"Digite seu nome: \")\n",
    "idade = input(\"Digite sua idade: \")"
   ]
  },
  {
   "cell_type": "code",
   "execution_count": 51,
   "id": "862e1a40",
   "metadata": {},
   "outputs": [
    {
     "name": "stdout",
     "output_type": "stream",
     "text": [
      "Meu nome é Vitor e eu tenho 23 anos!\n"
     ]
    }
   ],
   "source": [
    "print(f\"Meu nome é {nome} e eu tenho {idade} anos!\")"
   ]
  },
  {
   "cell_type": "markdown",
   "id": "6318b900",
   "metadata": {},
   "source": [
    "# PROJETO DA AULA\n",
    "\n",
    "### Desenvolvendo as entradas de dados\n",
    "\n",
    "- Descrição do projeto\n",
    "- Total de horas estimadas\n",
    "- Valor da hora de trabalho\n",
    "- Prazo de entrega estimado"
   ]
  },
  {
   "cell_type": "code",
   "execution_count": 53,
   "id": "48205b6f",
   "metadata": {},
   "outputs": [
    {
     "name": "stdout",
     "output_type": "stream",
     "text": [
      "Digite a descrição do projeto: Desenvolvimento Python\n",
      "Digite o total de horas estimadas: 60\n",
      "Digite o valor da hora trabalhada: 120\n",
      "Digite o prazo estimado: 2 meses\n"
     ]
    }
   ],
   "source": [
    "projeto = input(\"Digite a descrição do projeto: \")\n",
    "horas_estimadas = input(\"Digite o total de horas estimadas: \")\n",
    "valor_hora = input(\"Digite o valor da hora trabalhada: \")\n",
    "prazo_estimado = input(\"Digite o prazo estimado: \")"
   ]
  },
  {
   "cell_type": "markdown",
   "id": "f1825ad6",
   "metadata": {},
   "source": [
    "## Criando o cálculo do valor total estimado\n",
    " - Cálculo: valor_total_estimado = horas_estimadas * valor_hora"
   ]
  },
  {
   "cell_type": "code",
   "execution_count": 54,
   "id": "ed0a1340",
   "metadata": {},
   "outputs": [],
   "source": [
    "valor_total_estimado = int(horas_estimadas) * int(valor_hora)"
   ]
  },
  {
   "cell_type": "code",
   "execution_count": 55,
   "id": "779d2afa",
   "metadata": {},
   "outputs": [
    {
     "name": "stdout",
     "output_type": "stream",
     "text": [
      "7200\n"
     ]
    }
   ],
   "source": [
    "print(valor_total_estimado)"
   ]
  },
  {
   "cell_type": "markdown",
   "id": "3087e9da",
   "metadata": {},
   "source": [
    "## Gerando o PDF com o orçamento\n",
    "\n",
    "##### Instalando a biblioteca"
   ]
  },
  {
   "cell_type": "code",
   "execution_count": 56,
   "id": "852c2eaf",
   "metadata": {},
   "outputs": [
    {
     "name": "stdout",
     "output_type": "stream",
     "text": [
      "Collecting fpdf\n",
      "  Downloading fpdf-1.7.2.tar.gz (39 kB)\n",
      "  Preparing metadata (setup.py): started\n",
      "  Preparing metadata (setup.py): finished with status 'done'\n",
      "Building wheels for collected packages: fpdf\n",
      "  Building wheel for fpdf (setup.py): started\n",
      "  Building wheel for fpdf (setup.py): finished with status 'done'\n",
      "  Created wheel for fpdf: filename=fpdf-1.7.2-py2.py3-none-any.whl size=40705 sha256=834cfe180db24fa495fb1f1404f573c56e66771be84d3c62f2a56c98e6d441d5\n",
      "  Stored in directory: c:\\users\\vitor\\appdata\\local\\pip\\cache\\wheels\\44\\35\\8b\\86ce00cec7e4d13c5f189680ae0fa82f919bedc066c2cddae9\n",
      "Successfully built fpdf\n",
      "Installing collected packages: fpdf\n",
      "Successfully installed fpdf-1.7.2\n"
     ]
    }
   ],
   "source": [
    "!pip install fpdf"
   ]
  },
  {
   "cell_type": "code",
   "execution_count": 58,
   "id": "a6a99b67",
   "metadata": {},
   "outputs": [],
   "source": [
    "# importando a biblioteca\n",
    "from fpdf import FPDF"
   ]
  },
  {
   "cell_type": "markdown",
   "id": "3314bb92",
   "metadata": {},
   "source": [
    "### Criando um arquivo PDF"
   ]
  },
  {
   "cell_type": "code",
   "execution_count": 60,
   "id": "a40c8d4f",
   "metadata": {},
   "outputs": [],
   "source": [
    "pdf = FPDF()\n",
    "pdf.add_page()\n",
    "pdf.set_font(\"Arial\")"
   ]
  },
  {
   "cell_type": "markdown",
   "id": "71d285e3",
   "metadata": {},
   "source": [
    "### Inserindo os dados no PDF"
   ]
  },
  {
   "cell_type": "code",
   "execution_count": 61,
   "id": "d7e4d649",
   "metadata": {},
   "outputs": [],
   "source": [
    "# utilizando um template\n",
    "pdf.image(\"template.png\", x=0, y=0)\n",
    "\n",
    "# inserindo os dados do projeto\n",
    "pdf.text(115, 145, projeto)\n",
    "pdf.text(115, 160, horas_estimadas)\n",
    "pdf.text(115, 175, valor_hora)\n",
    "pdf.text(115, 190, prazo_estimado)\n",
    "pdf.text(115, 205, str(valor_total_estimado))"
   ]
  },
  {
   "cell_type": "markdown",
   "id": "de3050eb",
   "metadata": {},
   "source": [
    "### Salvando o arquivo"
   ]
  },
  {
   "cell_type": "code",
   "execution_count": 63,
   "id": "122d6361",
   "metadata": {},
   "outputs": [
    {
     "name": "stdout",
     "output_type": "stream",
     "text": [
      "Orçamento gerado com sucesso!\n"
     ]
    }
   ],
   "source": [
    "pdf.output(\"orçamento.pdf\")\n",
    "print(\"Orçamento gerado com sucesso!\")"
   ]
  }
 ],
 "metadata": {
  "kernelspec": {
   "display_name": "Python 3 (ipykernel)",
   "language": "python",
   "name": "python3"
  },
  "language_info": {
   "codemirror_mode": {
    "name": "ipython",
    "version": 3
   },
   "file_extension": ".py",
   "mimetype": "text/x-python",
   "name": "python",
   "nbconvert_exporter": "python",
   "pygments_lexer": "ipython3",
   "version": "3.9.13"
  }
 },
 "nbformat": 4,
 "nbformat_minor": 5
}
